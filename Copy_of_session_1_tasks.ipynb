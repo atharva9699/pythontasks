{
  "nbformat": 4,
  "nbformat_minor": 0,
  "metadata": {
    "colab": {
      "provenance": []
    },
    "kernelspec": {
      "name": "python3",
      "display_name": "Python 3"
    },
    "language_info": {
      "name": "python"
    }
  },
  "cells": [
    {
      "cell_type": "markdown",
      "source": [
        "# Task : Session 1\n",
        "Solve these questions own your own and try to test yourself what you have learned in the session.\n",
        "\n",
        "Happy Learning!"
      ],
      "metadata": {
        "id": "A05OG15VqOPF"
      }
    },
    {
      "cell_type": "markdown",
      "source": [
        "### Q1 :- Print the given strings as per stated format.\n",
        "\n",
        "**Given strings**:\n",
        "```\n",
        "\"Data\" \"Science\" \"Mentorship\" \"Program\"\n",
        "\"By\" \"CampusX\"\n",
        "```\n",
        "**Output**:\n",
        "```\n",
        "Data-Science-Mentorship-Program-started-By-CampusX\n",
        "```\n",
        "\n",
        "Concept- [Seperator and End]"
      ],
      "metadata": {
        "id": "2doIXf8bqe9_"
      }
    },
    {
      "cell_type": "code",
      "source": [
        "# Write your code here\n",
        "print(\"Data\",\"Science\",\"Mentorship\",\"Program\",\"started\",\"By\",sep='-')\n",
        "print(\"-CampusX\")"
      ],
      "metadata": {
        "id": "-em6d3KErDtp",
        "colab": {
          "base_uri": "https://localhost:8080/"
        },
        "outputId": "cce5938a-bede-43c0-bcc5-63d6083274c0"
      },
      "execution_count": 2,
      "outputs": [
        {
          "output_type": "stream",
          "name": "stdout",
          "text": [
            "Data-Science-Mentorship-Program-started-By\n",
            "-CampusX\n"
          ]
        }
      ]
    },
    {
      "cell_type": "markdown",
      "source": [
        "### Q2:- Write a program that will convert celsius value to fahrenheit."
      ],
      "metadata": {
        "id": "1KUpN7ZTrC3_"
      }
    },
    {
      "cell_type": "code",
      "source": [
        "celcius = float(input('enter the temp in celcius'))\n",
        "\n",
        "faren = celcius * (9/5) + 32\n",
        "\n",
        "print(faren,'F')"
      ],
      "metadata": {
        "id": "yxKYhYQiqWfj",
        "colab": {
          "base_uri": "https://localhost:8080/"
        },
        "outputId": "a436dab8-f6de-4735-d212-2e64bb07f6cd"
      },
      "execution_count": 13,
      "outputs": [
        {
          "output_type": "stream",
          "name": "stdout",
          "text": [
            "enter the temp in celcius25\n",
            "77.0 F\n"
          ]
        }
      ]
    },
    {
      "cell_type": "markdown",
      "source": [
        "### Q3:- Take 2 numbers as input from the user.Write a program to swap the numbers without using any special python syntax."
      ],
      "metadata": {
        "id": "RLrOBBJurLB2"
      }
    },
    {
      "cell_type": "code",
      "source": [
        "# Write your code here\n",
        "\n",
        "a = 3\n",
        "b = 5\n",
        "\n",
        "temp = a\n",
        "a = b\n",
        "b = temp\n",
        "\n",
        "print(a)\n",
        "print(b)"
      ],
      "metadata": {
        "id": "yPn7if0TrJ4F",
        "colab": {
          "base_uri": "https://localhost:8080/"
        },
        "outputId": "7a8549ae-6f8d-4d66-ed5d-8ccd4561059f"
      },
      "execution_count": 12,
      "outputs": [
        {
          "output_type": "stream",
          "name": "stdout",
          "text": [
            "5\n",
            "3\n"
          ]
        }
      ]
    },
    {
      "cell_type": "markdown",
      "source": [
        "### Q4:- Write a program to find the euclidean distance between two coordinates.Take both the coordinates from the user as input."
      ],
      "metadata": {
        "id": "waLCP1bjr7ML"
      }
    },
    {
      "cell_type": "code",
      "source": [
        "\n",
        "# Write your code here\n",
        "p1x = int(input('enter x cood of 1st point'))\n",
        "p1y = int(input('enter y cood of 1st point'))\n",
        "p2x = int(input('enter x cood of 2nd point'))\n",
        "p2y = int(input('enter y cood of 2nd point'))\n",
        "\n",
        "distance = ((p2x - p1x)**2 + (p2y - p1y)**2)**0.5\n",
        "\n",
        "print(round(distance,2))"
      ],
      "metadata": {
        "id": "Pl1Sv-xnrxnH",
        "colab": {
          "base_uri": "https://localhost:8080/"
        },
        "outputId": "934c0dbc-bf85-49ad-83f2-7f8019cc8c53"
      },
      "execution_count": 11,
      "outputs": [
        {
          "output_type": "stream",
          "name": "stdout",
          "text": [
            "enter x cood of 1st point2\n",
            "enter y cood of 1st point3\n",
            "enter x cood of 2nd point4\n",
            "enter y cood of 2nd point2\n",
            "2.24\n"
          ]
        }
      ]
    },
    {
      "cell_type": "markdown",
      "source": [
        "3### Q5:- Write a program to find the simple interest when the value of principle,rate of interest and time period is provided by the user.\n"
      ],
      "metadata": {
        "id": "VLrhg-FRsHjR"
      }
    },
    {
      "cell_type": "code",
      "source": [
        "# Write your code here\n",
        "p = int(input('Enter amount'))\n",
        "t = int(input('Enter time period'))\n",
        "r = float(input('Enter rate'))\n",
        "\n",
        "interest = (p*t*r)/100\n",
        "\n",
        "print('the interest is',interest)"
      ],
      "metadata": {
        "id": "s40DlReZsTmY",
        "colab": {
          "base_uri": "https://localhost:8080/"
        },
        "outputId": "f6b80aa1-6316-47cf-b011-609dc53d1f75"
      },
      "execution_count": 9,
      "outputs": [
        {
          "output_type": "stream",
          "name": "stdout",
          "text": [
            "Enter amount10000\n",
            "Enter time period2\n",
            "Enter rate5\n",
            "the interest is 1000.0\n"
          ]
        }
      ]
    },
    {
      "cell_type": "markdown",
      "source": [
        "### Q6:- Write a program that will tell the number of dogs and chicken are there when the user will provide the value of total heads and legs.\n",
        "\n",
        "For example:\n",
        "Input:\n",
        "heads -> 4\n",
        "legs -> 12\n",
        "<br>\n",
        "Output:\n",
        "dogs -> 2\n",
        "chicken -> 2\n",
        "\n",
        "\n",
        "\n"
      ],
      "metadata": {
        "id": "LMy0BTUktYKa"
      }
    },
    {
      "cell_type": "code",
      "source": [
        "# Write your code here\n",
        "heads=int(input(\"Enter heads: \"))\n",
        "legs=int(input(\"Enter legs:\"))\n",
        "#2C+4D=L\n",
        "#C+D=H\n",
        "#C=H-D\n",
        "#2(H-D)+4D=L\n",
        "#2H-2D+4D=L\n",
        "#2H-2D=L\n",
        "#2D=L-2H\n",
        "#D=(L-2H)/2\n",
        "dogs=(legs-2*heads)//2;\n",
        "chicken=heads-dogs;\n",
        "print(dogs)\n",
        "print(chicken)"
      ],
      "metadata": {
        "id": "XSBvJoA4tXaG",
        "colab": {
          "base_uri": "https://localhost:8080/"
        },
        "outputId": "62e021a6-847e-426d-c169-8f0e0b1ad01c"
      },
      "execution_count": 8,
      "outputs": [
        {
          "output_type": "stream",
          "name": "stdout",
          "text": [
            "Enter heads: 4\n",
            "Enter legs:12\n",
            "2\n",
            "2\n"
          ]
        }
      ]
    },
    {
      "cell_type": "markdown",
      "source": [
        "### Q7:- Write a program to find the sum of squares of first n natural numbers where n will be provided by the user."
      ],
      "metadata": {
        "id": "gJ7C5kZYt4BP"
      }
    },
    {
      "cell_type": "code",
      "source": [
        "# Write your code here\n",
        "n=int(input(\"Enter a number: \"))\n",
        "\n",
        "result=(n*(n+1)*(2*n+1))/6\n",
        "print(result)\n"
      ],
      "metadata": {
        "id": "_tHsmEHzt2nX",
        "colab": {
          "base_uri": "https://localhost:8080/"
        },
        "outputId": "cf614a01-0674-4b55-ebdd-4fda47c76ea7"
      },
      "execution_count": 14,
      "outputs": [
        {
          "output_type": "stream",
          "name": "stdout",
          "text": [
            "Enter a number: 5\n",
            "55.0\n"
          ]
        }
      ]
    },
    {
      "cell_type": "markdown",
      "source": [
        "### Q8:- Given the first 2 terms of an Arithmetic Series.Find the Nth term of the series. Assume all inputs are provided by the user."
      ],
      "metadata": {
        "id": "FHrMM7g-yG1h"
      }
    },
    {
      "cell_type": "code",
      "source": [
        "# Write your code here\n",
        "t1=int(input(\"Enter first term: \"))\n",
        "t2=int(input(\"Enter second term:\"))\n",
        "n=int(input(\"Enter n: \"))\n",
        "\n",
        "#calcu;ate common diff\n",
        "d=t2-t1\n",
        "\n",
        "#calulate the nth term using formula\n",
        "tn=t1+(n-1)*d\n",
        "print(tn)"
      ],
      "metadata": {
        "id": "go4_kmZmyVSx",
        "colab": {
          "base_uri": "https://localhost:8080/"
        },
        "outputId": "392aa028-854a-41d7-f783-f898024c1dd1"
      },
      "execution_count": 16,
      "outputs": [
        {
          "output_type": "stream",
          "name": "stdout",
          "text": [
            "Enter first term: 3\n",
            "Enter second term:6\n",
            "Enter n: 5\n",
            "15\n"
          ]
        }
      ]
    },
    {
      "cell_type": "markdown",
      "source": [
        "### Q9:- Given 2 fractions, find the sum of those 2 fractions.Take the numerator and denominator values of the fractions from the user."
      ],
      "metadata": {
        "id": "QgyRX_es1oum"
      }
    },
    {
      "cell_type": "code",
      "source": [
        "# Write your code here\n",
        "a=int(input(\"Enter numerator of first fraction: \"))\n",
        "b=int(input(\"Ennter denominator of second fraction:\"))\n",
        "c=int(input(\"Enter numerator of second fraction:\"))\n",
        "d=int(input(\"Enter denominator of second fraction:\"))\n",
        "numerator=a*d+b*c\n",
        "denominator=b*d\n",
        "print(numerator,\"/\",denominator)"
      ],
      "metadata": {
        "id": "X05xqFS1yW16",
        "colab": {
          "base_uri": "https://localhost:8080/"
        },
        "outputId": "60b35540-8a91-4626-f6a0-d7647e423da3"
      },
      "execution_count": 18,
      "outputs": [
        {
          "output_type": "stream",
          "name": "stdout",
          "text": [
            "Enter numerator of first fraction: 3\n",
            "Ennter denominator of second fraction:7\n",
            "Enter numerator of second fraction:2\n",
            "Enter denominator of second fraction:11\n",
            "47 / 77\n"
          ]
        }
      ]
    },
    {
      "cell_type": "markdown",
      "source": [
        "### Q10:- Given the height, width and breadth of a milk tank, you have to find out how many glasses of milk can be obtained? Assume all the inputs are provided by the user.\n",
        "\n",
        "\n",
        "\n",
        "Input:<br>\n",
        "Dimensions of the milk tank<br>\n",
        "H = 20cm, L = 20cm, B = 20cm\n",
        "<br><br>\n",
        "Dimensions of the glass<br>\n",
        "h = 3cm, r = 1cm"
      ],
      "metadata": {
        "id": "eaql38ln13u7"
      }
    },
    {
      "cell_type": "code",
      "source": [
        "# Write your code here\n",
        "import math\n",
        "\n",
        "h_t = float(input('height'))\n",
        "b_t = float(input('breadth'))\n",
        "l_t = float(input('length'))\n",
        "\n",
        "h_g = float(input('height of glass'))\n",
        "r_g = float(input('radius of the glass'))\n",
        "\n",
        "vol_tank = h_t*b_t*l_t\n",
        "vol_glass = 3.14*r_g*r_g*h_g\n",
        "\n",
        "print('no of glasses',math.floor(vol_tank/vol_glass))\n"
      ],
      "metadata": {
        "id": "FePZqno74eWv",
        "colab": {
          "base_uri": "https://localhost:8080/"
        },
        "outputId": "4c778b32-63d8-4074-8fcb-b6f1aa91846d"
      },
      "execution_count": 22,
      "outputs": [
        {
          "output_type": "stream",
          "name": "stdout",
          "text": [
            "height10\n",
            "breadth5\n",
            "length2\n",
            "height of glass6\n",
            "radius of the glass3\n",
            "no of glasses 0\n"
          ]
        }
      ]
    },
    {
      "cell_type": "code",
      "source": [],
      "metadata": {
        "id": "IfmDPAFkR1sh"
      },
      "execution_count": null,
      "outputs": []
    }
  ]
}