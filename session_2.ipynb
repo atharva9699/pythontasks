{
  "nbformat": 4,
  "nbformat_minor": 0,
  "metadata": {
    "colab": {
      "provenance": [],
      "authorship_tag": "ABX9TyO6xDwX1RKtL58CsEYfcdzW",
      "include_colab_link": true
    },
    "kernelspec": {
      "name": "python3",
      "display_name": "Python 3"
    },
    "language_info": {
      "name": "python"
    }
  },
  "cells": [
    {
      "cell_type": "markdown",
      "metadata": {
        "id": "view-in-github",
        "colab_type": "text"
      },
      "source": [
        "<a href=\"https://colab.research.google.com/github/atharva9699/pythontasks/blob/main/session_2.ipynb\" target=\"_parent\"><img src=\"https://colab.research.google.com/assets/colab-badge.svg\" alt=\"Open In Colab\"/></a>"
      ]
    },
    {
      "cell_type": "code",
      "execution_count": 2,
      "metadata": {
        "colab": {
          "base_uri": "https://localhost:8080/"
        },
        "id": "XCo0jnEoFCzb",
        "outputId": "08daf6b3-b8ff-4f04-b902-56893f0a5cbc"
      },
      "outputs": [
        {
          "output_type": "stream",
          "name": "stdout",
          "text": [
            "7\n",
            "-1\n",
            "12\n",
            "0.75\n",
            "0\n",
            "3\n",
            "81\n"
          ]
        }
      ],
      "source": [
        "#Arithimatic operators\n",
        "\n",
        "print(3+4)\n",
        "print(3-4)\n",
        "print(3*4)\n",
        "print(3/4)\n",
        "print(3//4)\n",
        "print(3%4)\n",
        "print(3**4)\n",
        "\n"
      ]
    },
    {
      "cell_type": "code",
      "source": [
        "#RELATIONAL OPERATORS\n",
        "\n",
        "print(4<5)\n",
        "print(3>4)\n",
        "print(3>=4)\n",
        "print(3<=4)\n",
        "print(3==4)\n",
        "print(3!=4)\n",
        "\n",
        "\n",
        "\n",
        "\n"
      ],
      "metadata": {
        "colab": {
          "base_uri": "https://localhost:8080/"
        },
        "id": "k5JrhQWgFa28",
        "outputId": "67034928-5b5e-472d-af71-4451ddd9a09e"
      },
      "execution_count": 4,
      "outputs": [
        {
          "output_type": "stream",
          "name": "stdout",
          "text": [
            "True\n",
            "False\n",
            "False\n",
            "True\n",
            "False\n",
            "True\n"
          ]
        }
      ]
    },
    {
      "cell_type": "code",
      "source": [
        "#LOGICAL OPERAATORS\n",
        "\n",
        "print(0 and 1)\n",
        "print(1 and 1)\n",
        "print(0 or 1)\n",
        "print(1 or 1)\n",
        "print(not 1)\n",
        "print(not 0)"
      ],
      "metadata": {
        "colab": {
          "base_uri": "https://localhost:8080/"
        },
        "id": "C2Od6CzzGEmg",
        "outputId": "c116dec7-bd10-425b-c67c-a06441832051"
      },
      "execution_count": 5,
      "outputs": [
        {
          "output_type": "stream",
          "name": "stdout",
          "text": [
            "0\n",
            "1\n",
            "1\n",
            "1\n",
            "False\n",
            "True\n"
          ]
        }
      ]
    },
    {
      "cell_type": "code",
      "source": [
        "print(4<<2)\n",
        "print(4>>2)"
      ],
      "metadata": {
        "colab": {
          "base_uri": "https://localhost:8080/"
        },
        "id": "thAZUrkhHf73",
        "outputId": "b245f9fb-65c5-4a3f-a709-2f261a6dfc94"
      },
      "execution_count": 7,
      "outputs": [
        {
          "output_type": "stream",
          "name": "stdout",
          "text": [
            "16\n",
            "1\n"
          ]
        }
      ]
    },
    {
      "cell_type": "code",
      "source": [
        "print('s' not in 'Atharva')"
      ],
      "metadata": {
        "colab": {
          "base_uri": "https://localhost:8080/"
        },
        "id": "Xwv3j_WHLIfZ",
        "outputId": "a3265c0f-0d45-46a2-d0cd-9502e1a6c542"
      },
      "execution_count": 3,
      "outputs": [
        {
          "output_type": "stream",
          "name": "stdout",
          "text": [
            "True\n"
          ]
        }
      ]
    },
    {
      "cell_type": "code",
      "source": [
        "n = int(input(\"Enter a 3 digit number :\"))\n",
        "\n",
        "a=n % 10\n",
        "\n",
        "n=n//10\n",
        "\n",
        "b=n%10\n",
        "\n",
        "n=n//10\n",
        "\n",
        "c=n%10\n",
        "\n",
        "\n",
        "sum=a+b+c\n",
        "\n",
        "print(sum)"
      ],
      "metadata": {
        "colab": {
          "base_uri": "https://localhost:8080/"
        },
        "id": "42GwKmfaC4Ew",
        "outputId": "4b4e8949-fdce-40f2-9064-52b7c01119ca"
      },
      "execution_count": 7,
      "outputs": [
        {
          "output_type": "stream",
          "name": "stdout",
          "text": [
            "Enter a 3 digit number :347\n",
            "14\n"
          ]
        }
      ]
    },
    {
      "cell_type": "code",
      "source": [
        "email = input('Enter email :')\n",
        "password = input('Enter password: ')\n",
        "\n",
        "if email=='atharvagondhale111@gmail.com' and password=='1234':\n",
        "  print(\"Welcome\")\n",
        "elif email=='atharvagondhale111@gmail.com' and password!='1234':\n",
        "  print('Incorrect password')\n",
        "  password=(input('Enter password again : '))\n",
        "  if password=='1234':\n",
        "    print('Finally correct !')\n",
        "  else:\n",
        "    print('Beta tumse na ho payegaa...')\n",
        "elif email!='atharvagondhale111@gmail.com' and password=='1234':\n",
        "  print('Incorrect emailID')\n",
        "else:\n",
        "  print('Error')\n",
        "\n",
        "\n"
      ],
      "metadata": {
        "colab": {
          "base_uri": "https://localhost:8080/"
        },
        "id": "AO9wsVZQFRNd",
        "outputId": "22ece652-4237-40eb-bdbb-77ea8bfcadda"
      },
      "execution_count": 13,
      "outputs": [
        {
          "output_type": "stream",
          "name": "stdout",
          "text": [
            "Enter email :atharvagondhale111@gmail.com\n",
            "Enter password: 122234\n",
            "Incorrect password\n",
            "Enter password again : 1234\n",
            "Finally correct !\n"
          ]
        }
      ]
    },
    {
      "cell_type": "code",
      "source": [
        "a=int(input('Enter number 1: '))\n",
        "b=int(input('Enter number 2: '))\n",
        "c=int(input('Enter number 3: '))\n",
        "if a < b  and a < c :\n",
        "  print('smallest is',a)\n",
        "elif b < a and b < c :\n",
        "  print('smallest is',b)\n",
        "else:\n",
        "  print('smallest is',c)"
      ],
      "metadata": {
        "colab": {
          "base_uri": "https://localhost:8080/"
        },
        "id": "GVclmjWYLA0k",
        "outputId": "7ca4dc82-c38b-4ece-d82f-4bc1db3f2153"
      },
      "execution_count": 19,
      "outputs": [
        {
          "output_type": "stream",
          "name": "stdout",
          "text": [
            "Enter number 1: 2\n",
            "Enter number 2: 2\n",
            "Enter number 3: 2\n",
            "smallest is 2\n"
          ]
        }
      ]
    },
    {
      "cell_type": "code",
      "source": [
        "a=int(input('Enter number 1: '))\n",
        "b=int(input('Enter number 2: '))\n",
        "c=int(input('Enter number 3: '))\n",
        "if a > b  and a > c :\n",
        "  print('largeest is',a)\n",
        "elif b > a and b > c :\n",
        "  print('largeest is',b)\n",
        "else:\n",
        "  print('largeest is',c)"
      ],
      "metadata": {
        "colab": {
          "base_uri": "https://localhost:8080/"
        },
        "id": "TxM8nTDgOvEL",
        "outputId": "f356f066-566b-4a25-f74a-18438b563445"
      },
      "execution_count": 18,
      "outputs": [
        {
          "output_type": "stream",
          "name": "stdout",
          "text": [
            "Enter number 1: 5\n",
            "Enter number 2: 6\n",
            "Enter number 3: 7\n",
            "largeest is 7\n"
          ]
        }
      ]
    },
    {
      "cell_type": "code",
      "source": [
        "num1=int(input(\"Enter num1: \"))\n",
        "\n",
        "num2=int(input(\"Enter num2: \"))\n",
        "\n",
        "op=input('Enter the operaation:')\n",
        "\n",
        "if op=='+':\n",
        "  print(num1+num2)\n",
        "elif op=='-':\n",
        "  print (num1-num2)\n",
        "elif op=='*':\n",
        "  print(num1*num2)\n",
        "elif op=='/'  :\n",
        "  print(num1//num2)\n",
        "else:\n",
        "  print('INVALID INPUT')\n"
      ],
      "metadata": {
        "colab": {
          "base_uri": "https://localhost:8080/"
        },
        "id": "_3aqcWivPWf1",
        "outputId": "7b0ac960-4669-4200-acbb-15ae58876a60"
      },
      "execution_count": 24,
      "outputs": [
        {
          "output_type": "stream",
          "name": "stdout",
          "text": [
            "Enter num1: 10\n",
            "Enter num2: 4\n",
            "Enter the operaation:-\n",
            "6\n"
          ]
        }
      ]
    },
    {
      "cell_type": "code",
      "source": [
        "import math\n"
      ],
      "metadata": {
        "id": "zFSf71J5RWN7"
      },
      "execution_count": 25,
      "outputs": []
    },
    {
      "cell_type": "code",
      "source": [
        "math.ceil(25.3)"
      ],
      "metadata": {
        "colab": {
          "base_uri": "https://localhost:8080/"
        },
        "id": "A91MMU9MXV9U",
        "outputId": "c096bb47-66f4-408a-bfd7-7f4affdfdcc3"
      },
      "execution_count": 30,
      "outputs": [
        {
          "output_type": "execute_result",
          "data": {
            "text/plain": [
              "26"
            ]
          },
          "metadata": {},
          "execution_count": 30
        }
      ]
    },
    {
      "cell_type": "code",
      "source": [
        "import keyword\n",
        "print(keyword.kwlist)"
      ],
      "metadata": {
        "colab": {
          "base_uri": "https://localhost:8080/"
        },
        "id": "hn0mZ7ODXZZZ",
        "outputId": "80bd3e27-823d-4b3a-999f-db63350f556f"
      },
      "execution_count": 31,
      "outputs": [
        {
          "output_type": "stream",
          "name": "stdout",
          "text": [
            "['False', 'None', 'True', 'and', 'as', 'assert', 'async', 'await', 'break', 'class', 'continue', 'def', 'del', 'elif', 'else', 'except', 'finally', 'for', 'from', 'global', 'if', 'import', 'in', 'is', 'lambda', 'nonlocal', 'not', 'or', 'pass', 'raise', 'return', 'try', 'while', 'with', 'yield']\n"
          ]
        }
      ]
    },
    {
      "cell_type": "code",
      "source": [
        "import random\n",
        "print(random.randint(1,100))"
      ],
      "metadata": {
        "colab": {
          "base_uri": "https://localhost:8080/"
        },
        "id": "DWa3Dgq1YhmF",
        "outputId": "05f97583-b184-4daf-fe9a-3e37b4a5f142"
      },
      "execution_count": 33,
      "outputs": [
        {
          "output_type": "stream",
          "name": "stdout",
          "text": [
            "80\n"
          ]
        }
      ]
    },
    {
      "cell_type": "code",
      "source": [
        "import datetime\n",
        "print(datetime.datetime.now())"
      ],
      "metadata": {
        "colab": {
          "base_uri": "https://localhost:8080/"
        },
        "id": "sKIDpun2Y4mX",
        "outputId": "cc7cc3e7-fe05-47a7-96c9-ce016c11a2df"
      },
      "execution_count": 34,
      "outputs": [
        {
          "output_type": "stream",
          "name": "stdout",
          "text": [
            "2025-01-02 14:23:44.666130\n"
          ]
        }
      ]
    },
    {
      "cell_type": "code",
      "source": [
        "#WHILE LOOPS\n",
        "num=int(input('Enter number :'))\n",
        "i=1\n",
        "while i<num:\n",
        "  print(num,'*',i,'=',num*i)\n",
        "  i+=1\n",
        ""
      ],
      "metadata": {
        "colab": {
          "base_uri": "https://localhost:8080/"
        },
        "id": "QIfvh1LVZp3P",
        "outputId": "6db04afa-f124-41d0-c216-7b19c845c51d"
      },
      "execution_count": 35,
      "outputs": [
        {
          "output_type": "stream",
          "name": "stdout",
          "text": [
            "Enter number :11\n",
            "11 * 1 = 11\n",
            "11 * 2 = 22\n",
            "11 * 3 = 33\n",
            "11 * 4 = 44\n",
            "11 * 5 = 55\n",
            "11 * 6 = 66\n",
            "11 * 7 = 77\n",
            "11 * 8 = 88\n",
            "11 * 9 = 99\n",
            "11 * 10 = 110\n"
          ]
        }
      ]
    },
    {
      "cell_type": "code",
      "source": [
        "#GUESSING GAME\n",
        "import random\n",
        "cnt=0\n",
        "guessingNum=random.randint(1,100)\n",
        "guess=int(input('Guess a number from 1 to 100 :'))\n",
        "while guess!=guessingNum :\n",
        "  cnt=cnt+1\n",
        "  if guess<guessingNum:\n",
        "    print('Too Low')\n",
        "  else :\n",
        "    print('Too high ')\n",
        "  guess = int(input('Try again:'))\n",
        "\n",
        "else:\n",
        "  print(\"Exactly correct guess in\",cnt,\"attempts\" )"
      ],
      "metadata": {
        "colab": {
          "base_uri": "https://localhost:8080/"
        },
        "collapsed": true,
        "id": "OB-LdfOgdAEj",
        "outputId": "0d1a1b88-a48b-4ad0-971f-82c3f37607d1"
      },
      "execution_count": 42,
      "outputs": [
        {
          "output_type": "stream",
          "name": "stdout",
          "text": [
            "Guess a number from 1 to 100 :12\n",
            "Too Low\n",
            "Try again:67\n",
            "Too Low\n",
            "Try again:89\n",
            "Too high \n",
            "Try again:80\n",
            "Too high \n",
            "Try again:75\n",
            "Exactly correct guess in 4 attempts\n"
          ]
        }
      ]
    },
    {
      "cell_type": "markdown",
      "source": [
        "#FOR LOOP"
      ],
      "metadata": {
        "id": "qBFuX9bhjuB8"
      }
    },
    {
      "cell_type": "code",
      "source": [
        "for i in range (1,11) :\n",
        "  print(i)"
      ],
      "metadata": {
        "colab": {
          "base_uri": "https://localhost:8080/"
        },
        "id": "9K7U2YUYfEzB",
        "outputId": "1f29c091-1d77-4eae-8726-d85641858685"
      },
      "execution_count": 4,
      "outputs": [
        {
          "output_type": "stream",
          "name": "stdout",
          "text": [
            "1\n",
            "2\n",
            "3\n",
            "4\n",
            "5\n",
            "6\n",
            "7\n",
            "8\n",
            "9\n",
            "10\n"
          ]
        }
      ]
    },
    {
      "cell_type": "code",
      "source": [
        "for i in range (10,0,-1) :\n",
        "  print(i)"
      ],
      "metadata": {
        "colab": {
          "base_uri": "https://localhost:8080/"
        },
        "id": "nV_IV-OOj2OJ",
        "outputId": "e2ea6f6d-fd2d-40f0-9b9b-a0f9319eee31"
      },
      "execution_count": 3,
      "outputs": [
        {
          "output_type": "stream",
          "name": "stdout",
          "text": [
            "10\n",
            "9\n",
            "8\n",
            "7\n",
            "6\n",
            "5\n",
            "4\n",
            "3\n",
            "2\n",
            "1\n"
          ]
        }
      ]
    },
    {
      "cell_type": "code",
      "source": [],
      "metadata": {
        "id": "zfIntD3xAgi9"
      },
      "execution_count": null,
      "outputs": []
    }
  ]
}