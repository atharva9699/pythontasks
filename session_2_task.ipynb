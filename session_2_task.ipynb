{
  "nbformat": 4,
  "nbformat_minor": 0,
  "metadata": {
    "colab": {
      "provenance": []
    },
    "kernelspec": {
      "name": "python3",
      "display_name": "Python 3"
    },
    "language_info": {
      "name": "python"
    }
  },
  "cells": [
    {
      "cell_type": "markdown",
      "source": [
        "### `Problem 1`: Write a program that will give you in hand monthly salary after deduction on CTC - HRA(10%), DA(5%), PF(3%) and taxes deduction as below:\n",
        "\n",
        "> Salary(Lakhs) : Tax(%)\n",
        "\n",
        "*   Below 5 : 0%\n",
        "*   5-10 : 10%\n",
        "*   10-20 : 20%\n",
        "*   aboove 20 : 30%"
      ],
      "metadata": {
        "id": "w6RlOAXV2PWh"
      }
    },
    {
      "cell_type": "code",
      "source": [
        "# Write code here\n",
        "ctc=int(input(\"Enter CTC :\"))\n",
        "if ctc<500000:\n",
        "  salary=ctc * .82\n",
        "elif ctc <1000000:\n",
        "  salary=ctc * .72\n",
        "elif ctc <2000000:\n",
        "  salary=ctc * .62\n",
        "else:\n",
        "  salary=ctc * .52\n",
        "\n",
        "print('Your inhand salary will be-',round(salary/12,2))"
      ],
      "metadata": {
        "id": "7tMHvKYO2etI",
        "outputId": "6b6662b4-0aa6-45b2-81ca-cd9bfdd7734f",
        "colab": {
          "base_uri": "https://localhost:8080/"
        }
      },
      "execution_count": 7,
      "outputs": [
        {
          "output_type": "stream",
          "name": "stdout",
          "text": [
            "Enter CTC :600000\n",
            "Your inhand salary will be- 36000.0\n"
          ]
        }
      ]
    },
    {
      "cell_type": "markdown",
      "source": [
        "0### `Problem 2`: Write a program that take a user input of three angles and will find out whether it can form a triangle or not."
      ],
      "metadata": {
        "id": "tYzCGqwl2hfN"
      }
    },
    {
      "cell_type": "code",
      "source": [
        "# Write code here\n",
        "a=int(input(\"Enter angle 1: \"))\n",
        "b=int(input(\"Enter angle 2: \"))\n",
        "c=int(input(\"Enter angle 3: \"))\n",
        "sum=a+b+c\n",
        "if sum==180 and a>0 and b>0 and c>0:\n",
        "  print(\"It's a triangle .\")\n",
        "else :\n",
        "  print(\"Not a Triangle .\")\n"
      ],
      "metadata": {
        "id": "FYEqln-I2kxV",
        "outputId": "877fd583-55b1-438d-9b97-4eb6770f9639",
        "colab": {
          "base_uri": "https://localhost:8080/"
        }
      },
      "execution_count": 9,
      "outputs": [
        {
          "output_type": "stream",
          "name": "stdout",
          "text": [
            "Enter angle 1: 130\n",
            "Enter angle 2: -1\n",
            "Enter angle 3: 50\n",
            "Not a Triangle .\n"
          ]
        }
      ]
    },
    {
      "cell_type": "markdown",
      "source": [
        "### `Problem 3`: Write a program that will take user input of cost price and selling price and determines whether its a loss or a profit."
      ],
      "metadata": {
        "id": "5vEpPh8C2pE4"
      }
    },
    {
      "cell_type": "code",
      "source": [
        "# Write code here\n",
        "cp=int(input(\"Enter Cost price :\"))\n",
        "sp=int(input(\"Enter Selling price :\"))\n",
        "\n",
        "if cp > sp :\n",
        "  print('LOSS')\n",
        "else :\n",
        "  print('PROFIT')"
      ],
      "metadata": {
        "id": "jDwBXlkO2sfl",
        "outputId": "477b6d8f-e8f8-4e00-e7aa-a7dd658f5576",
        "colab": {
          "base_uri": "https://localhost:8080/"
        }
      },
      "execution_count": 10,
      "outputs": [
        {
          "output_type": "stream",
          "name": "stdout",
          "text": [
            "Enter Cost price :2500\n",
            "Enter Selling price :2800\n",
            "PROFIT\n"
          ]
        }
      ]
    },
    {
      "cell_type": "markdown",
      "source": [
        "### `Problem 4`: Write a menu-driven program -\n",
        "1. cm to ft\n",
        "2. km to miles\n",
        "3. USD to INR\n",
        "4. exit"
      ],
      "metadata": {
        "id": "J_FG_cJW2ugT"
      }
    },
    {
      "cell_type": "code",
      "source": [
        "# Write code here\n",
        "ch=int(input('Enter the choice:\\n1. cm to ft \\n2. km to miles \\n3. USD to INR \\n4. exit\\n:'))\n",
        "if ch==1:\n",
        "  cm=int(input('Enter cm:'))\n",
        "  ft=cm*0.032\n",
        "  print(ft)\n",
        "elif ch==2:\n",
        "      km=int(input('Enter km:'))\n",
        "      miles=km*0.62\n",
        "      print(miles)\n",
        "elif ch==3:\n",
        "    usd=int(input('Enter usd:'))\n",
        "    inr=usd*80\n",
        "    print(inr)\n",
        "else:\n",
        "  print(\"Thank you !\")\n",
        "\n",
        "\n"
      ],
      "metadata": {
        "id": "yBHhaCGQ2zpD",
        "outputId": "8aa930a0-43a1-455d-a0cd-1d69db097518",
        "colab": {
          "base_uri": "https://localhost:8080/"
        }
      },
      "execution_count": 15,
      "outputs": [
        {
          "output_type": "stream",
          "name": "stdout",
          "text": [
            "Enter the choice:\n",
            "1. cm to ft \n",
            "2. km to miles \n",
            "3. USD to INR \n",
            "4. exit\n",
            ":1\n",
            "Enter cm:15\n",
            "0.48\n"
          ]
        }
      ]
    },
    {
      "cell_type": "markdown",
      "source": [
        "### `Problem 5` - Exercise 12: Display Fibonacci series up to 10 terms.\n",
        "\n",
        "*Note: The Fibonacci Sequence is a series of numbers. The next number is found by adding up the two numbers before it. The first two numbers are 0 and 1. For example, 0, 1, 1, 2, 3, 5, 8, 13, 21. The next number in this series above is 13+21 = 34*"
      ],
      "metadata": {
        "id": "LJJ30_Yw27ZU"
      }
    },
    {
      "cell_type": "code",
      "source": [
        "# Write code here\n",
        "a=0\n",
        "b=1\n",
        "i=1\n",
        "\n",
        "print(a)\n",
        "print(b)\n",
        "while i<9:\n",
        "\n",
        "  temp=a+b\n",
        "  print(temp)\n",
        "\n",
        "  a=b\n",
        "\n",
        "  b=temp\n",
        "  i+=1"
      ],
      "metadata": {
        "id": "ae_1rpe52-5R",
        "outputId": "dcceb13a-81cb-4339-8929-ecf50fdfb3dc",
        "colab": {
          "base_uri": "https://localhost:8080/"
        }
      },
      "execution_count": 12,
      "outputs": [
        {
          "output_type": "stream",
          "name": "stdout",
          "text": [
            "0\n",
            "1\n",
            "1\n",
            "2\n",
            "3\n",
            "5\n",
            "8\n",
            "13\n",
            "21\n",
            "34\n"
          ]
        }
      ]
    },
    {
      "cell_type": "markdown",
      "source": [
        "### `Problem 6` - Find the factorial of a given number.\n",
        "\n",
        "Write a program to use the loop to find the factorial of a given number.\n",
        "\n",
        "The factorial (symbol: `!`) means to multiply all whole numbers from the chosen number down to 1.\n",
        "\n",
        "For example: calculate the factorial of 5\n",
        "\n",
        "```bash\n",
        "5! = 5 × 4 × 3 × 2 × 1 = 120\n",
        "```\n",
        "\n",
        "Output:\n",
        "\n",
        "```bash\n",
        "120\n",
        "```"
      ],
      "metadata": {
        "id": "pk_I_S4m3PT5"
      }
    },
    {
      "cell_type": "code",
      "source": [
        "# Write code her\n",
        "num=int(input('Enter the number:'))\n",
        "fact=1\n",
        "for i in range(1,num+1):\n",
        "     fact=fact*i\n",
        "     i+=1\n",
        "print(fact)"
      ],
      "metadata": {
        "id": "lzXxHegx3Rkc",
        "outputId": "3a4bbd4f-fa25-4316-cfa7-54af471c812e",
        "colab": {
          "base_uri": "https://localhost:8080/"
        }
      },
      "execution_count": 14,
      "outputs": [
        {
          "output_type": "stream",
          "name": "stdout",
          "text": [
            "Enter the number:5\n",
            "120\n"
          ]
        }
      ]
    },
    {
      "cell_type": "markdown",
      "source": [
        "### `Problem 7` - Reverse a given integer number.\n",
        "\n",
        "Example:\n",
        "\n",
        "`Input:`\n",
        "\n",
        "```bash\n",
        "76542\n",
        "```\n",
        "\n",
        "`Output:`\n",
        "\n",
        "```bash\n",
        "24567\n",
        "```"
      ],
      "metadata": {
        "id": "-17IOi-g3UpU"
      }
    },
    {
      "cell_type": "code",
      "source": [
        "# Write code here\n",
        "num=int(input('Enter the number:'))\n",
        "length=len(str(num))\n",
        "while(length>0):\n",
        "  print(num%10,end='')\n",
        "  num=num//10\n",
        "  length-=1"
      ],
      "metadata": {
        "id": "wJwLpKCr3aVA",
        "outputId": "5e8d15f3-0513-4ab2-e533-fdbd1c2c3542",
        "colab": {
          "base_uri": "https://localhost:8080/"
        }
      },
      "execution_count": 3,
      "outputs": [
        {
          "output_type": "stream",
          "name": "stdout",
          "text": [
            "Enter the number:12345\n",
            "54321"
          ]
        }
      ]
    },
    {
      "cell_type": "markdown",
      "source": [
        "### `Problem 8`: Take a user input as integer N. Find out the sum from 1 to N. If any number if divisible by 5, then skip that number. And if the sum is greater than 300, don't need to calculate the sum further more. Print the final result. And don't use for loop to solve this problem.\n",
        "\n",
        "**Example 1:**\n",
        "\n",
        "`Input:`\n",
        "\n",
        "```bash\n",
        "30\n",
        "```\n",
        "\n",
        "`Output:`\n",
        "\n",
        "```bash\n",
        "276\n",
        "```"
      ],
      "metadata": {
        "id": "-t8PJQaY3sHf"
      }
    },
    {
      "cell_type": "code",
      "source": [
        "\n",
        "# Write code here\n",
        "num = int(input('Enter number :'))\n",
        "sum=0\n",
        "for i in range (1,num+1) :\n",
        "  if i % 5 == 0 :\n",
        "    continue\n",
        "  sum+=i\n",
        "  if sum>300:\n",
        "    sum-=i\n",
        "    break\n",
        "print(sum)\n"
      ],
      "metadata": {
        "id": "GZB6mGMP3ujT",
        "outputId": "bc442640-d9ac-4200-dadd-c97816748622",
        "colab": {
          "base_uri": "https://localhost:8080/"
        }
      },
      "execution_count": 15,
      "outputs": [
        {
          "output_type": "stream",
          "name": "stdout",
          "text": [
            "Enter number :50\n",
            "276\n"
          ]
        }
      ]
    },
    {
      "cell_type": "markdown",
      "source": [
        "### `Problem 9`: Write a program that keeps on accepting a number from the user until the user enters Zero. Display the sum and average of all the numbers."
      ],
      "metadata": {
        "id": "Q7ggImeA3xm4"
      }
    },
    {
      "cell_type": "code",
      "source": [
        "# Write code here\n",
        "sum=0\n",
        "count=0\n",
        "while True:\n",
        "  num=int(input('Enter the number:'))\n",
        "  if num==0 :\n",
        "    break\n",
        "  sum=sum+num\n",
        "  count+=1\n",
        "print('sum',sum)\n",
        "print('count',count)"
      ],
      "metadata": {
        "id": "t_YDSZDe4Kdo",
        "outputId": "4c4248aa-2845-4d87-97cd-45e68e5237d2",
        "colab": {
          "base_uri": "https://localhost:8080/"
        }
      },
      "execution_count": 16,
      "outputs": [
        {
          "output_type": "stream",
          "name": "stdout",
          "text": [
            "Enter the number:1\n",
            "Enter the number:2\n",
            "Enter the number:3\n",
            "Enter the number:0\n",
            "sum 6\n",
            "count 3\n"
          ]
        }
      ]
    },
    {
      "cell_type": "markdown",
      "source": [
        "###`Problem 9`: Write a program which will find all such numbers which are divisible by 7 but are not a multiple of 5, between 2000 and 3200 (both included). The numbers obtained should be printed in a comma-separated sequence on a single line."
      ],
      "metadata": {
        "id": "6EhvEMvm4R7s"
      }
    },
    {
      "cell_type": "code",
      "source": [
        "# Write code here\n",
        "for i in range(2000,3201) :\n",
        "  if i%7==0 and i%5!=0 :\n",
        "    print(i,end=',')"
      ],
      "metadata": {
        "id": "d6RgP1B34T6c",
        "outputId": "749613d9-313f-42f5-dbe8-2ad5e4a42343",
        "colab": {
          "base_uri": "https://localhost:8080/"
        }
      },
      "execution_count": 18,
      "outputs": [
        {
          "output_type": "stream",
          "name": "stdout",
          "text": [
            "2002,2009,2016,2023,2037,2044,2051,2058,2072,2079,2086,2093,2107,2114,2121,2128,2142,2149,2156,2163,2177,2184,2191,2198,2212,2219,2226,2233,2247,2254,2261,2268,2282,2289,2296,2303,2317,2324,2331,2338,2352,2359,2366,2373,2387,2394,2401,2408,2422,2429,2436,2443,2457,2464,2471,2478,2492,2499,2506,2513,2527,2534,2541,2548,2562,2569,2576,2583,2597,2604,2611,2618,2632,2639,2646,2653,2667,2674,2681,2688,2702,2709,2716,2723,2737,2744,2751,2758,2772,2779,2786,2793,2807,2814,2821,2828,2842,2849,2856,2863,2877,2884,2891,2898,2912,2919,2926,2933,2947,2954,2961,2968,2982,2989,2996,3003,3017,3024,3031,3038,3052,3059,3066,3073,3087,3094,3101,3108,3122,3129,3136,3143,3157,3164,3171,3178,3192,3199,"
          ]
        }
      ]
    },
    {
      "cell_type": "markdown",
      "source": [
        "###`Problem 10`: Write a program, which will find all such numbers between 1000 and 3000 (both included) such that each digit of the number is an even number. The numbers obtained should be printed in a space-separated sequence on a single line.\n",
        "\n"
      ],
      "metadata": {
        "id": "tYvmRR-G4Vp4"
      }
    },
    {
      "cell_type": "code",
      "source": [
        "# Write code here\n",
        "for i in range (1000,3001):\n",
        "  flag = True\n",
        "  curr=i\n",
        "  while curr>0 :\n",
        "    last=curr%10\n",
        "    if last%2!=0:\n",
        "      flag=False\n",
        "      break\n",
        "    curr=curr//10\n",
        "  if flag==True:\n",
        "    print(i,end=',')\n"
      ],
      "metadata": {
        "id": "k6Gs1kIf4k19",
        "outputId": "26536d6e-1d94-4ec7-b4e7-3ab60386c09c",
        "colab": {
          "base_uri": "https://localhost:8080/"
        }
      },
      "execution_count": 22,
      "outputs": [
        {
          "output_type": "stream",
          "name": "stdout",
          "text": [
            "2000,2002,2004,2006,2008,2020,2022,2024,2026,2028,2040,2042,2044,2046,2048,2060,2062,2064,2066,2068,2080,2082,2084,2086,2088,2200,2202,2204,2206,2208,2220,2222,2224,2226,2228,2240,2242,2244,2246,2248,2260,2262,2264,2266,2268,2280,2282,2284,2286,2288,2400,2402,2404,2406,2408,2420,2422,2424,2426,2428,2440,2442,2444,2446,2448,2460,2462,2464,2466,2468,2480,2482,2484,2486,2488,2600,2602,2604,2606,2608,2620,2622,2624,2626,2628,2640,2642,2644,2646,2648,2660,2662,2664,2666,2668,2680,2682,2684,2686,2688,2800,2802,2804,2806,2808,2820,2822,2824,2826,2828,2840,2842,2844,2846,2848,2860,2862,2864,2866,2868,2880,2882,2884,2886,2888,"
          ]
        }
      ]
    },
    {
      "cell_type": "markdown",
      "source": [
        "###`Problem 11`: A robot moves in a plane starting from the original point (0,0). The robot can move toward UP, DOWN, LEFT and RIGHT with a given steps.\n",
        "The trace of robot movement is shown as the following:\n",
        "```\n",
        "UP 5\n",
        "DOWN 3\n",
        "LEFT 3\n",
        "RIGHT 2\n",
        "!\n",
        "```\n",
        "> The numbers after the direction are steps.\n",
        "\n",
        "> `!` means robot stop there.\n",
        "\n",
        "**Please write a program to compute the distance from current position after a sequence of movement and original point.**\n",
        "\n",
        "*If the distance is a float, then just print the nearest integer.*\n",
        "\n",
        "Example:\n",
        "\n",
        "`Input`:\n",
        "```\n",
        "UP 5\n",
        "DOWN 3\n",
        "LEFT 3\n",
        "RIGHT 2\n",
        "!\n",
        "```\n",
        "`Output`:\n",
        "```\n",
        "2\n",
        "```"
      ],
      "metadata": {
        "id": "GV18IINT4mf5"
      }
    },
    {
      "cell_type": "code",
      "source": [
        "# Write code here\n",
        "pos=[0,0]\n",
        "while True:\n",
        "  s=input('Enter the robot path :')\n",
        "  if s=='!':\n",
        "    break\n",
        "    movement=s.split()\n",
        "    direction=movement[0]\n",
        "    steps=int(movement[1])\n",
        "    if direction=='UP':\n",
        "      pos[1]+=steps\n",
        "    elif direction=='DOWN':\n",
        "      pos[1]-=steps\n",
        "    elif direction=='LEFT':\n",
        "      pos[0]-=steps\n",
        "    elif direction=='RIGHT':\n",
        "      pos[0]+=steps\n",
        "    else:\n",
        "      pass\n",
        "ans=((pos[1]**2)+(pos[0]**2)**0.5)\n",
        "print(ans)\n",
        "\n",
        "\n"
      ],
      "metadata": {
        "id": "6UNMC2aR4w5x",
        "outputId": "a25dcd24-c1c5-46f8-857f-1a22c5b1775b",
        "colab": {
          "base_uri": "https://localhost:8080/"
        }
      },
      "execution_count": 1,
      "outputs": [
        {
          "output_type": "stream",
          "name": "stdout",
          "text": [
            "Enter the robot path :UP 5\n",
            "Enter the robot path :DOWN 5\n",
            "Enter the robot path :LEFT 5\n",
            "Enter the robot path :RIGHT 5\n",
            "Enter the robot path :!\n",
            "0.0\n"
          ]
        }
      ]
    },
    {
      "cell_type": "markdown",
      "source": [
        "###`Problem 12`:Write a program to print whether a given number is a prime number or not"
      ],
      "metadata": {
        "id": "3fsAIAhK5GYY"
      }
    },
    {
      "cell_type": "code",
      "source": [
        "# Write code here\n",
        "cnt=0\n",
        "num=int(input('Enter the number :'))\n",
        "for i in range (2,num) :\n",
        "  if num%i==0 :\n",
        "    cnt+=1\n",
        "    break\n",
        "if cnt==0 :\n",
        "  print('Prime')\n",
        "else :\n",
        "  print('Not prime')"
      ],
      "metadata": {
        "id": "j6y91lxy5LZs",
        "outputId": "b6eb7e22-07b1-4578-a313-4f9c7a6b9c6a",
        "colab": {
          "base_uri": "https://localhost:8080/"
        }
      },
      "execution_count": 5,
      "outputs": [
        {
          "output_type": "stream",
          "name": "stdout",
          "text": [
            "Enter the number :6\n",
            "Not prime\n"
          ]
        }
      ]
    },
    {
      "cell_type": "markdown",
      "source": [
        "###`Problem 13`:Print all the Armstrong numbers in a given range.\n",
        "Range will be provided by the user<br>\n",
        "Armstrong number is a number that is equal to the sum of cubes of its digits. For example 0, 1, 153, 370, 371 and 407 are the Armstrong numbers."
      ],
      "metadata": {
        "id": "asAbmbK-5NHv"
      }
    },
    {
      "cell_type": "code",
      "source": [
        "# Write code here\n",
        "num=int(input('Enter the number :'))\n",
        "sum_of_cubes = sum(int(digit) ** 3 for digit in str(num))\n",
        "if sum_of_cubes==num :\n",
        "  print('Armstrong')\n",
        "else :\n",
        "  print('Not Armstrong')\n",
        "\n"
      ],
      "metadata": {
        "id": "PZuI67pm5jCT",
        "outputId": "235e360b-a56e-42af-c9bb-271ebe58e124",
        "colab": {
          "base_uri": "https://localhost:8080/"
        }
      },
      "execution_count": 3,
      "outputs": [
        {
          "output_type": "stream",
          "name": "stdout",
          "text": [
            "Enter the number :152\n",
            "Not Armstrong\n"
          ]
        }
      ]
    },
    {
      "cell_type": "markdown",
      "source": [
        "###`Problem 14`:Calculate the angle between the hour hand and minute hand.\n",
        "\n",
        "Note: There can be two angles between hands; we need to print a minimum of two. Also, we need to print the floor of the final result angle. For example, if the final angle is 10.61, we need to print 10.\n",
        "\n",
        "Input:<br>\n",
        "H = 9 , M = 0<br>\n",
        "Output:<br>\n",
        "90<br>\n",
        "Explanation:<br>\n",
        "The minimum angle between hour and minute\n",
        "hand when the time is 9 is 90 degress."
      ],
      "metadata": {
        "id": "ClCQZMqT7gK0"
      }
    },
    {
      "cell_type": "code",
      "source": [
        "# Write code here\n",
        "import math\n",
        "\n",
        "H=int(input(\"Enter the hour (0,12):\"))\n",
        "M=int(input('Enter the minute (0,60):'))\n",
        "\n",
        "hour_angle=0.5*(H*60+M)\n",
        "minute_angle=6*M\n",
        "\n",
        "angle=abs(hour_angle-minute_angle)\n",
        "angle=min(360-angle,angle)\n",
        "print(math.floor(angle))"
      ],
      "metadata": {
        "id": "tNBTCZML7jy_",
        "outputId": "c48128b7-a2c6-41ac-d841-143a8e1bb5ff",
        "colab": {
          "base_uri": "https://localhost:8080/"
        }
      },
      "execution_count": 5,
      "outputs": [
        {
          "output_type": "stream",
          "name": "stdout",
          "text": [
            "Enter the hour (0,12):10\n",
            "Enter the minute (0,60):22\n",
            "179\n"
          ]
        }
      ]
    },
    {
      "cell_type": "markdown",
      "source": [
        "###`Problem 15`:Given two rectangles, find if the given two rectangles overlap or not. A rectangle is denoted by providing the x and y coordinates of two points: the left top corner and the right bottom corner of the rectangle. Two rectangles sharing a side are considered overlapping. (L1 and R1 are the extreme points of the first rectangle and L2 and R2 are the extreme points of the second rectangle).\n",
        "\n",
        "Note: It may be assumed that the rectangles are parallel to the coordinate axis.\n",
        "\n",
        "<img src='https://www.geeksforgeeks.org/wp-content/uploads/rectanglesOverlap.png' width='300' height='200'>"
      ],
      "metadata": {
        "id": "GwacF9Co72Qc"
      }
    },
    {
      "cell_type": "code",
      "source": [
        "# Write code here"
      ],
      "metadata": {
        "id": "6rrw_lpH78Rs"
      },
      "execution_count": null,
      "outputs": []
    }
  ]
}